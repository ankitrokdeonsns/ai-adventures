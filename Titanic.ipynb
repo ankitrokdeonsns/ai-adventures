{
 "cells": [
  {
   "cell_type": "code",
   "execution_count": null,
   "metadata": {},
   "outputs": [],
   "source": [
    "import pandas as pd"
   ]
  },
  {
   "cell_type": "code",
   "execution_count": null,
   "metadata": {},
   "outputs": [],
   "source": [
    "pd.set_option('precision', 2)"
   ]
  },
  {
   "cell_type": "code",
   "execution_count": null,
   "metadata": {},
   "outputs": [],
   "source": [
    "train_data = pd.read_csv('./titanic_train.csv')\n",
    "test_data = pd.read_csv('./titanic_test.csv')"
   ]
  },
  {
   "cell_type": "code",
   "execution_count": null,
   "metadata": {},
   "outputs": [],
   "source": [
    "train_data.columns.values"
   ]
  },
  {
   "cell_type": "code",
   "execution_count": null,
   "metadata": {},
   "outputs": [],
   "source": [
    "train_data.describe()"
   ]
  },
  {
   "cell_type": "code",
   "execution_count": null,
   "metadata": {},
   "outputs": [],
   "source": [
    "train_data.describe(include = 'object')"
   ]
  },
  {
   "cell_type": "code",
   "execution_count": null,
   "metadata": {},
   "outputs": [],
   "source": [
    "mean_age = train_data['Age'].mean()\n",
    "def process_age(data):\n",
    "    return pd.DataFrame(data['Age'].fillna(mean_age), columns = ['Age'])\n",
    "new_age = process_age(train_data)\n",
    "new_age.describe()"
   ]
  },
  {
   "cell_type": "code",
   "execution_count": null,
   "metadata": {},
   "outputs": [],
   "source": [
    "mode_embarked = train_data['Embarked'].mode()[0]\n",
    "new_embarked = pd.DataFrame(train_data['Embarked'].fillna(mode_embarked), columns = ['Embarked'])\n",
    "from sklearn.preprocessing import LabelEncoder, OneHotEncoder\n",
    "\n",
    "embarked_label_encoder = LabelEncoder()\n",
    "embarked_integer_encoded = embarked_label_encoder.fit_transform(new_embarked)\n",
    "embarked_integer_encoded = embarked_integer_encoded.reshape(len(embarked_integer_encoded), 1)\n",
    "embarked_one_hot_encoder = OneHotEncoder(sparse = False)\n",
    "embarked_one_hot_encoder.fit(embarked_integer_encoded)\n",
    "def process_embarked(data):\n",
    "    data = pd.DataFrame(data['Embarked'].fillna(mode_embarked), columns = ['Embarked'])\n",
    "    integer_encoded = embarked_label_encoder.transform(data['Embarked'])\n",
    "    integer_encoded = integer_encoded.reshape(len(integer_encoded), 1)\n",
    "    labels = ['Embarked__' + str(i) for i in range(len(embarked_label_encoder.classes_))]\n",
    "    return pd.DataFrame(embarked_one_hot_encoder.transform(integer_encoded), columns = labels)\n",
    "new_embarked = process_embarked(train_data)\n",
    "new_embarked"
   ]
  },
  {
   "cell_type": "code",
   "execution_count": null,
   "metadata": {},
   "outputs": [],
   "source": [
    "from sklearn.preprocessing import LabelEncoder, OneHotEncoder\n",
    "label_encoder = LabelEncoder()\n",
    "integer_encoded = label_encoder.fit_transform(train_data['Sex'])\n",
    "one_hot_encoder = OneHotEncoder(sparse = False)\n",
    "integer_encoded = integer_encoded.reshape(len(integer_encoded), 1)\n",
    "onehot_encoded = one_hot_encoder.fit_transform(integer_encoded)\n",
    "def process_sex(data):\n",
    "    int_encoded = label_encoder.transform(data['Sex'])\n",
    "    int_encoded = int_encoded.reshape(len(int_encoded), 1)\n",
    "    col_names = ['Sex__' + str(i) for i in range(len(label_encoder.classes_))]\n",
    "    return pd.DataFrame(one_hot_encoder.transform(int_encoded), columns = col_names)\n",
    "process_sex(train_data)"
   ]
  },
  {
   "cell_type": "code",
   "execution_count": null,
   "metadata": {},
   "outputs": [],
   "source": [
    "def process(data):\n",
    "    processed_age = process_age(data)\n",
    "    processed_embarked = process_embarked(data)\n",
    "    processed_sex = process_sex(data)\n",
    "    processed = pd.DataFrame()\n",
    "    processed = pd.concat([processed\n",
    "                           , processed_age\n",
    "                           , processed_embarked\n",
    "                           , processed_sex\n",
    "                           , data[['Survived', 'Pclass', 'SibSp', 'Parch', 'Fare']]], ignore_index = True)\n",
    "    return processed\n",
    "train_processed = process(train_data)\n",
    "train_processed.describe()"
   ]
  },
  {
   "cell_type": "code",
   "execution_count": null,
   "metadata": {},
   "outputs": [],
   "source": [
    "train_processed.columns.values"
   ]
  },
  {
   "cell_type": "code",
   "execution_count": null,
   "metadata": {},
   "outputs": [],
   "source": []
  }
 ],
 "metadata": {
  "kernelspec": {
   "display_name": "Python 3",
   "language": "python",
   "name": "python3"
  },
  "language_info": {
   "codemirror_mode": {
    "name": "ipython",
    "version": 3
   },
   "file_extension": ".py",
   "mimetype": "text/x-python",
   "name": "python",
   "nbconvert_exporter": "python",
   "pygments_lexer": "ipython3",
   "version": "3.7.1"
  }
 },
 "nbformat": 4,
 "nbformat_minor": 2
}
