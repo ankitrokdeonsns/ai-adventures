{
 "cells": [
  {
   "cell_type": "code",
   "execution_count": null,
   "metadata": {},
   "outputs": [],
   "source": [
    "import pandas as pd"
   ]
  },
  {
   "cell_type": "code",
   "execution_count": null,
   "metadata": {},
   "outputs": [],
   "source": [
    "pd.set_option('precision', 2)"
   ]
  },
  {
   "cell_type": "code",
   "execution_count": null,
   "metadata": {},
   "outputs": [],
   "source": [
    "train_data = pd.read_csv('./titanic_train.csv')\n",
    "test_data = pd.read_csv('./titanic_test.csv')"
   ]
  },
  {
   "cell_type": "code",
   "execution_count": null,
   "metadata": {},
   "outputs": [],
   "source": [
    "train_data.columns.values"
   ]
  },
  {
   "cell_type": "code",
   "execution_count": null,
   "metadata": {},
   "outputs": [],
   "source": [
    "train_data.describe()"
   ]
  },
  {
   "cell_type": "code",
   "execution_count": null,
   "metadata": {},
   "outputs": [],
   "source": [
    "train_data.describe(include = 'object')"
   ]
  },
  {
   "cell_type": "code",
   "execution_count": null,
   "metadata": {},
   "outputs": [],
   "source": [
    "mean_age = train_data['Age'].mean()\n",
    "def process_age(data):\n",
    "    return pd.DataFrame(data['Age'].fillna(mean_age), columns = ['Age'])\n",
    "new_age = process_age(train_data)\n",
    "new_age.describe()"
   ]
  },
  {
   "cell_type": "code",
   "execution_count": null,
   "metadata": {},
   "outputs": [],
   "source": [
    "mode_embarked = train_data['Embarked'].mode()[0]\n",
    "new_embarked = pd.DataFrame(train_data['Embarked'].fillna(mode_embarked), columns = ['Embarked'])\n",
    "from sklearn.preprocessing import LabelEncoder, OneHotEncoder\n",
    "\n",
    "embarked_label_encoder = LabelEncoder()\n",
    "embarked_integer_encoded = embarked_label_encoder.fit_transform(new_embarked)\n",
    "embarked_integer_encoded = embarked_integer_encoded.reshape(len(embarked_integer_encoded), 1)\n",
    "embarked_one_hot_encoder = OneHotEncoder(sparse = False)\n",
    "embarked_one_hot_encoder.fit(embarked_integer_encoded)\n",
    "def process_embarked(data):\n",
    "    data = pd.DataFrame(data['Embarked'].fillna(mode_embarked), columns = ['Embarked'])\n",
    "    integer_encoded = embarked_label_encoder.transform(data['Embarked'])\n",
    "    integer_encoded = integer_encoded.reshape(len(integer_encoded), 1)\n",
    "    labels = ['Embarked__' + str(i) for i in range(len(embarked_label_encoder.classes_))]\n",
    "    return pd.DataFrame(embarked_one_hot_encoder.transform(integer_encoded), columns = labels)\n",
    "new_embarked = process_embarked(train_data)\n",
    "new_embarked"
   ]
  },
  {
   "cell_type": "code",
   "execution_count": null,
   "metadata": {},
   "outputs": [],
   "source": [
    "from sklearn.preprocessing import LabelEncoder, OneHotEncoder\n",
    "label_encoder = LabelEncoder()\n",
    "integer_encoded = label_encoder.fit_transform(train_data['Sex'])\n",
    "one_hot_encoder = OneHotEncoder(sparse = False)\n",
    "integer_encoded = integer_encoded.reshape(len(integer_encoded), 1)\n",
    "onehot_encoded = one_hot_encoder.fit_transform(integer_encoded)\n",
    "def process_sex(data):\n",
    "    int_encoded = label_encoder.transform(data['Sex'])\n",
    "    int_encoded = int_encoded.reshape(len(int_encoded), 1)\n",
    "    col_names = ['Sex__' + str(i) for i in range(len(label_encoder.classes_))]\n",
    "    return pd.DataFrame(one_hot_encoder.transform(int_encoded), columns = col_names)\n",
    "process_sex(train_data)"
   ]
  },
  {
   "cell_type": "code",
   "execution_count": null,
   "metadata": {},
   "outputs": [],
   "source": [
    "def process(data):\n",
    "    processed_age = process_age(data)\n",
    "    processed_embarked = process_embarked(data)\n",
    "    processed_sex = process_sex(data)\n",
    "    processed = pd.DataFrame()\n",
    "    processed = pd.concat([processed\n",
    "                           , processed_age\n",
    "                           , processed_embarked\n",
    "                           , processed_sex\n",
    "                           , data[['Pclass', 'SibSp', 'Parch', 'Fare']]], axis = 1)\n",
    "    return processed\n",
    "train_processed = process(train_data)\n",
    "train_labels = train_data['Survived']\n",
    "train_processed.describe()"
   ]
  },
  {
   "cell_type": "code",
   "execution_count": null,
   "metadata": {},
   "outputs": [],
   "source": [
    "train_processed.columns.values"
   ]
  },
  {
   "cell_type": "code",
   "execution_count": null,
   "metadata": {},
   "outputs": [],
   "source": [
    "test_processed = process(test_data)\n",
    "test_processed.describe()"
   ]
  },
  {
   "cell_type": "code",
   "execution_count": null,
   "metadata": {},
   "outputs": [],
   "source": [
    "from sklearn.model_selection import cross_val_score\n",
    "from sklearn.linear_model import LogisticRegression\n",
    "cross_val_score(LogisticRegression(), train_processed, train_labels, cv = 5).mean()"
   ]
  },
  {
   "cell_type": "markdown",
   "metadata": {},
   "source": [
    "To improve the performance of the model we need to scale features, specially `Age` and `Fare`.\n",
    "We have 3 options.\n",
    "* ### standard scaling: assumes the data to be normally distributed\n",
    "* ### min-max scaling: sensitive to outliers\n",
    "* ### robust scaling: uses inter-quantile range, less sensitive to outliers\n",
    "\n",
    "Hence we need to find if the data is normally distributed or if there are outliers in the data"
   ]
  },
  {
   "cell_type": "code",
   "execution_count": null,
   "metadata": {},
   "outputs": [],
   "source": [
    "import seaborn as sb\n",
    "import matplotlib.pyplot as plt\n",
    "sb.distplot(train_processed[['Age']])\n",
    "plt.show()"
   ]
  },
  {
   "cell_type": "markdown",
   "metadata": {},
   "source": [
    "`Age` does not seem normally ditributed. It is worth noting that `Age` had missing values and we imputed the same with the `mean`. Number of missing values were 891 - 714 = 177 which is a large proportion of data. So imputing blindly with mean might not be the best strategy. We will try to fix this later. Let us check if it has outliers."
   ]
  },
  {
   "cell_type": "code",
   "execution_count": null,
   "metadata": {},
   "outputs": [],
   "source": [
    "sb.boxplot(train_processed[['Age']])\n",
    "plt.show()"
   ]
  },
  {
   "cell_type": "markdown",
   "metadata": {},
   "source": [
    "Seems like there are a lot of outliers. Hence we should use robust scaler."
   ]
  },
  {
   "cell_type": "code",
   "execution_count": null,
   "metadata": {},
   "outputs": [],
   "source": [
    "from sklearn.preprocessing import RobustScaler\n",
    "age_scaler = RobustScaler()\n",
    "age_scaler.fit_transform(train_processed[['Age']])\n",
    "def process_age_2(data):\n",
    "    return pd.DataFrame(age_scaler.transform(data[['Age']]), columns = ['Age'])\n",
    "process_age_2(train_processed).describe()\n",
    "\n",
    "    "
   ]
  },
  {
   "cell_type": "markdown",
   "metadata": {},
   "source": [
    "This preprocessing makes some age values as negative and the mean age to be 0. This does not sync very well with real world, but we will see if the model is affected by this.\n",
    "\n",
    "Let us turn to `Fare`"
   ]
  },
  {
   "cell_type": "code",
   "execution_count": null,
   "metadata": {},
   "outputs": [],
   "source": [
    "sb.distplot(train_processed[['Fare']])"
   ]
  },
  {
   "cell_type": "markdown",
   "metadata": {},
   "source": [
    "`Fare` seems to be a skewed distribution. Lets also look for presence of outliers."
   ]
  },
  {
   "cell_type": "code",
   "execution_count": null,
   "metadata": {},
   "outputs": [],
   "source": [
    "sb.boxplot(train_processed[['Fare']])"
   ]
  },
  {
   "cell_type": "markdown",
   "metadata": {},
   "source": [
    "clearly there are outliers in this data. Let us use robust scaling again and compare model performance."
   ]
  },
  {
   "cell_type": "code",
   "execution_count": null,
   "metadata": {},
   "outputs": [],
   "source": [
    "fare_scaler = RobustScaler()\n",
    "fare_scaler.fit_transform(train_processed[['Fare']])\n",
    "\n",
    "def process_fare_2(data):\n",
    "    return pd.DataFrame(fare_scaler.transform(data[['Fare']]), columns = ['Fare'])\n",
    "\n",
    "process_fare_2(train_processed).describe()"
   ]
  },
  {
   "cell_type": "code",
   "execution_count": null,
   "metadata": {},
   "outputs": [],
   "source": [
    "mean_age = train_data['Age'].mean()\n",
    "def process_age(data):\n",
    "    return pd.DataFrame(data['Age'].fillna(mean_age), columns = ['Age'])\n",
    "\n",
    "def process_2(data):\n",
    "    processed_age = process_age(data)\n",
    "    processed_age = process_age_2(processed_age)\n",
    "    processed_fare = process_fare_2(data)\n",
    "    processed_embarked = process_embarked(data)\n",
    "    processed_sex = process_sex(data)\n",
    "    processed = pd.DataFrame()\n",
    "    processed = pd.concat([processed\n",
    "                           , processed_age\n",
    "                           , processed_fare\n",
    "                           , processed_embarked\n",
    "                           , processed_sex\n",
    "                           , data[['Pclass', 'SibSp', 'Parch']]], axis = 1)\n",
    "    return processed\n",
    "\n",
    "train_processed_2 = process_2(train_data)\n",
    "test_processed_2 = process_2(test_data)\n",
    "print(train_processed_2.describe())\n",
    "cross_val_score(LogisticRegression(), train_processed_2, train_labels, cv = 5).mean()"
   ]
  },
  {
   "cell_type": "markdown",
   "metadata": {},
   "source": [
    "This processing has reduced the accuracy of our model. But remember out imputation of the age may not be right from the first place. And we have not removed outliers."
   ]
  },
  {
   "cell_type": "code",
   "execution_count": null,
   "metadata": {},
   "outputs": [],
   "source": []
  }
 ],
 "metadata": {
  "kernelspec": {
   "display_name": "Python 3",
   "language": "python",
   "name": "python3"
  },
  "language_info": {
   "codemirror_mode": {
    "name": "ipython",
    "version": 3
   },
   "file_extension": ".py",
   "mimetype": "text/x-python",
   "name": "python",
   "nbconvert_exporter": "python",
   "pygments_lexer": "ipython3",
   "version": "3.7.1"
  }
 },
 "nbformat": 4,
 "nbformat_minor": 2
}
