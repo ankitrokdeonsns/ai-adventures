{
 "cells": [
  {
   "cell_type": "markdown",
   "metadata": {},
   "source": [
    "## EDA\n",
    "\n",
    "* Main tool is visualization it helps find patterns in data\n",
    "* We should ask\n",
    "    * what are the patterns\n",
    "    * how can we spot patterns\n",
    "    * how can we use them to build a better model\n",
    "* We can also use visualization for hypothesis testing\n",
    "\n",
    "### Building intuition about data\n",
    "* get the domain knowledge to understan data\n",
    "* check if the data is intuitive\n",
    "* understand how data was generated\n",
    "\n",
    "### Exploring anonymized data\n",
    "* guess meaning and types of columns\n",
    "* find relationships between feature pairs, feature groups\n",
    "\n",
    "### Visualizations\n",
    "* never make conclusions from a single plot\n",
    "* if we guess something treat it as a hypothesis and then make some more plots to validate the same\n",
    "* if we have missing values we can add a new feature is missing to the data or we can fill it with fixed value like -999\n",
    "* `value_counts` and `isnull` are useful functions\n",
    "* find feature relations using `scatter plot`\n",
    "\n",
    "### Dataset cleaning\n",
    "* ignore constant features\n",
    "* check if there are values in a column that are only in test set\n",
    "* keep only one of the duplicate features, categorical features may be renamed\n",
    "* check if rows are duplicated, normally drop them\n",
    "* check if train and test have common rows\n",
    "* check if data is shuffled, using rolling mean vs mean value"
   ]
  },
  {
   "cell_type": "markdown",
   "metadata": {},
   "source": [
    "## Validation and overfitting\n",
    "\n",
    "* train-validation split should be mimicking train-test split\n",
    "* different data splitting strategies differ in\n",
    "    * generated features\n",
    "    * model's reliance on the features\n",
    "    * data leakage\n",
    "* types of splits\n",
    "    * random\n",
    "    * time-wise: future values as test data\n",
    "    * id- based\n",
    "    * can also be combined\n",
    "\n",
    "* causes of bad validation accuracy\n",
    "    * too little data\n",
    "    * inconsistent data for: same features but different targets\n",
    "    \n",
    "* fixes for bad validaton accuracy\n",
    "    * increase k folds\n",
    "    * tune hyperparams\n",
    "    \n"
   ]
  },
  {
   "cell_type": "markdown",
   "metadata": {},
   "source": [
    "## Data Leakage\n",
    "* for time series data split should be done based on time\n",
    "* meta data information may be related to target\n",
    "* id may be related to target\n",
    "* row order: add row number as a feature\n",
    "\n",
    "### Leaderboard probing\n",
    "* "
   ]
  }
 ],
 "metadata": {
  "kernelspec": {
   "display_name": "Python 3",
   "language": "python",
   "name": "python3"
  },
  "language_info": {
   "codemirror_mode": {
    "name": "ipython",
    "version": 3
   },
   "file_extension": ".py",
   "mimetype": "text/x-python",
   "name": "python",
   "nbconvert_exporter": "python",
   "pygments_lexer": "ipython3",
   "version": "3.7.4"
  }
 },
 "nbformat": 4,
 "nbformat_minor": 2
}
