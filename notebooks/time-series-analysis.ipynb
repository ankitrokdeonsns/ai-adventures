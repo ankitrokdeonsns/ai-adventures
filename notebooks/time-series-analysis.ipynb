{
 "cells": [
  {
   "cell_type": "markdown",
   "metadata": {},
   "source": [
    "# time series analysis\n",
    "### [tutorial](https://machinelearningmastery.com/time-series-forecasting-python-mini-course/)\n",
    "### [guide](https://machinelearningmastery.com/time-series-forecast-study-python-monthly-sales-french-champagne/) for this notebook"
   ]
  },
  {
   "cell_type": "code",
   "execution_count": null,
   "metadata": {},
   "outputs": [],
   "source": [
    "import pandas as pd\n",
    "import seaborn as sb\n",
    "import matplotlib.pyplot as plt\n",
    "plt.rcParams['figure.figsize'] = [20, 10]"
   ]
  },
  {
   "cell_type": "code",
   "execution_count": null,
   "metadata": {},
   "outputs": [],
   "source": [
    "data = pd.read_csv('data/monthly_champagne_sales.csv')\n",
    "data.head()"
   ]
  },
  {
   "cell_type": "markdown",
   "metadata": {},
   "source": [
    "Let us extract month and year values from **Month** column"
   ]
  },
  {
   "cell_type": "code",
   "execution_count": null,
   "metadata": {},
   "outputs": [],
   "source": [
    "data['Year'] = data['Month'].apply(lambda x: x.split('-')[0]).apply(pd.to_numeric)\n",
    "data['Mon'] = data['Month'].apply(lambda x: x.split('-')[1]).apply(pd.to_numeric)\n",
    "data.head()"
   ]
  },
  {
   "cell_type": "code",
   "execution_count": null,
   "metadata": {},
   "outputs": [],
   "source": [
    "data.describe()"
   ]
  },
  {
   "cell_type": "markdown",
   "metadata": {},
   "source": [
    "* Total 105 observations starting from Jan 1964 and ending at Sep 1972\n",
    "* No missing data in between\n",
    "* No way of collecting new data as true test set\n",
    "* Will use last 12 observations as test set"
   ]
  },
  {
   "cell_type": "code",
   "execution_count": null,
   "metadata": {},
   "outputs": [],
   "source": [
    "from sklearn.model_selection import train_test_split\n",
    "trainX, testX, trainY, testY = train_test_split(data[['Month', 'Year']], data[['Sales']]\n",
    "                                                , test_size = 12\n",
    "                                                , shuffle = False) \n",
    "#since this is time series data no shuffling should be done\n",
    "\n",
    "print('train size:', trainX.shape[0], trainY.shape[0])\n",
    "print('test size:', testX.shape[0], testY.shape[0])\n",
    "print(trainX.head())\n",
    "print(testX.head())"
   ]
  },
  {
   "cell_type": "markdown",
   "metadata": {},
   "source": [
    "### baseline: persistence model - predict next time step value = current time step value"
   ]
  },
  {
   "cell_type": "code",
   "execution_count": null,
   "metadata": {},
   "outputs": [],
   "source": [
    "def baseline(x, y):\n",
    "    return y.shift(1)\n",
    "\n",
    "testBaselineY = baseline(testX, testY)\n",
    "lastTrainObservation = trainY.iloc[trainY.shape[0] - 1]\n",
    "testBaselineY.iloc[0] = lastTrainObservation\n",
    "print(testBaselineY)"
   ]
  },
  {
   "cell_type": "code",
   "execution_count": null,
   "metadata": {},
   "outputs": [],
   "source": [
    "print(testY)"
   ]
  },
  {
   "cell_type": "code",
   "execution_count": null,
   "metadata": {},
   "outputs": [],
   "source": [
    "from sklearn.metrics import mean_squared_error\n",
    "from math import sqrt\n",
    "print('Baseline RMSE:', sqrt(mean_squared_error(testY, testBaselineY)))"
   ]
  },
  {
   "cell_type": "code",
   "execution_count": null,
   "metadata": {},
   "outputs": [],
   "source": [
    "# import seaborn as sb\n",
    "sb.set()\n",
    "data.plot()\n",
    "# sb.tsplot(time = data['Month'], data = data['Sales'])#, data = data)"
   ]
  },
  {
   "cell_type": "code",
   "execution_count": null,
   "metadata": {},
   "outputs": [],
   "source": []
  }
 ],
 "metadata": {
  "kernelspec": {
   "display_name": "Python 3",
   "language": "python",
   "name": "python3"
  },
  "language_info": {
   "codemirror_mode": {
    "name": "ipython",
    "version": 3
   },
   "file_extension": ".py",
   "mimetype": "text/x-python",
   "name": "python",
   "nbconvert_exporter": "python",
   "pygments_lexer": "ipython3",
   "version": "3.7.3"
  }
 },
 "nbformat": 4,
 "nbformat_minor": 2
}
